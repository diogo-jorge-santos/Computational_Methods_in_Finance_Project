{
 "cells": [
  {
   "cell_type": "code",
   "execution_count": 1,
   "id": "d2fc0e2d",
   "metadata": {},
   "outputs": [],
   "source": [
    "import numpy as np\n",
    "import matplotlib.pyplot as plt\n",
    "import time\n",
    "from numba import njit\n",
    "#note: cn method uses a jit compiler-> to obtain similar resuts run the cells 2 times \n",
    "#(the 1st time would be affected by compile time )"
   ]
  },
  {
   "cell_type": "code",
   "execution_count": 2,
   "id": "8fc97910",
   "metadata": {},
   "outputs": [],
   "source": [
    "def fd_american_pricing_explicit(k,r,sigma,T,dt,ds,s_max,put=True,american=True):\n",
    "    #explicit fd scheme for American option\n",
    "    \n",
    "    if sigma**2 *s_max**2*dt /ds**2>1:\n",
    "        raise Exception(\"unstable parameters\")\n",
    "    t_count=int(T/dt)+1\n",
    "    s_count=int(s_max/ds)+1\n",
    "\n",
    "\n",
    "    t_lin=np.linspace(0,T,t_count)\n",
    "\n",
    "    x_lin=np.linspace(0,s_max,s_count)\n",
    "    \n",
    "    j_index=np.arange(0,len(x_lin)+1)\n",
    "\n",
    "    if put:\n",
    "        payoff=lambda s: np.maximum(k-s,0)\n",
    "    else:\n",
    "        payoff=lambda s: np.maximum(s-k,0)\n",
    "\n",
    "    value=np.zeros((s_count,t_count))\n",
    "    #Terminal condition\n",
    "    value[:,t_count-1]=payoff(x_lin)\n",
    "    \n",
    "    if put:\n",
    "        #left boundary condition\n",
    "        value[0,:]=k\n",
    "        #rigth boundary condition\n",
    "        value[s_count-1,:]=0\n",
    "    else:\n",
    "        #left boundary condition\n",
    "        value[0,:]=0\n",
    "        #rigth boundary condition\n",
    "        value[s_count-1,:]=s_max-k*np.exp(-r*(T-t_lin))\n",
    "\n",
    "\n",
    "    #FD coefficient\n",
    "    a=0.5*dt*(sigma**2*j_index[1:s_count-1]**2-r*j_index[1:s_count-1])\n",
    "    \n",
    "    b=1-dt*(sigma**2*j_index[1:s_count-1]**2+r)\n",
    "\n",
    "    c= 0.5*dt*(sigma**2*j_index[1:s_count-1]**2+r*j_index[1:s_count-1])\n",
    "    \n",
    "    if american:\n",
    "        for i in range(t_count-2,-1,-1):\n",
    "            value[1:s_count-1,i]=np.maximum(a*value[0:s_count-2,i+1]+ b*value[1:s_count-1,i+1] + c*value[2:s_count,i+1],\n",
    "                                            payoff(x_lin[1:s_count-1]))\n",
    "    else:\n",
    "        for i in range(t_count-2,-1,-1):\n",
    "            value[1:s_count-1,i]=a*value[0:s_count-2,i+1]+ b*value[1:s_count-1,i+1] + c*value[2:s_count,i+1]\n",
    "        \n",
    "    return value[:,0]\n",
    "\n",
    "\n"
   ]
  },
  {
   "cell_type": "code",
   "execution_count": 3,
   "id": "dcc4cad6",
   "metadata": {},
   "outputs": [],
   "source": [
    "@njit\n",
    "def PSOR_FD(B,F,g,sol_0,omega,american,epsilon=10**-8,max_iter=1000):\n",
    "    n=len(F)\n",
    "    v_1=np.copy(sol_0)\n",
    "    v=np.copy(sol_0)\n",
    "    if american:\n",
    "        for i in range(max_iter):\n",
    "            v[0]=max(v[0]*(1-omega)+omega/B[0,0]*(F[0]-B[0,1]*v[1]),g[0])\n",
    "            for j in range(1,n-1):\n",
    "                v[j]=max(v[j]*(1-omega)+omega/B[j,j]*(F[j]-B[j,j-1]*v[j-1]-B[j,j+1]*v[j+1]),g[j])\n",
    "            v[n-1]=max(v[n-1]*(1-omega)+omega/B[n-1,n-1]*(F[n-1]-B[n-1,n-2]*v[n-2]),g[n-1])\n",
    "\n",
    "            if np.linalg.norm(v-v_1)/np.sqrt(n)<epsilon:\n",
    "                break\n",
    "\n",
    "            v_1[:]=v\n",
    "    else:\n",
    "        for i in range(max_iter):\n",
    "            v[0]=v[0]*(1-omega)+omega/B[0,0]*(F[0]-B[0,1]*v[1])\n",
    "            for j in range(1,n-1):\n",
    "                v[j]=v[j]*(1-omega)+omega/B[j,j]*(F[j]-B[j,j-1]*v[j-1]-B[j,j+1]*v[j+1])\n",
    "            v[n-1]=v[n-1]*(1-omega)+omega/B[n-1,n-1]*(F[n-1]-B[n-1,n-2]*v[n-2])\n",
    "\n",
    "            if np.linalg.norm(v-v_1)/np.sqrt(n)<epsilon:\n",
    "                break\n",
    "\n",
    "            v_1[:]=v\n",
    "    \n",
    "\n",
    "    return (v,i)\n",
    "\n",
    "\n",
    "def fd_american_pricing_cn(k,r,sigma,T,dt,ds,s_max,omega=1.5,put=True,american=True):\n",
    "\n",
    "    t_count=int(T/dt)+1\n",
    "    s_count=int(s_max/ds)+1\n",
    "\n",
    "\n",
    "    t_lin=np.linspace(0,T,t_count)\n",
    "\n",
    "    x_lin=np.linspace(0,s_max,s_count)\n",
    "    j_index=np.arange(0,len(x_lin)+1)\n",
    "\n",
    "\n",
    "    if put:\n",
    "        payoff=lambda s: np.maximum(k-s,0)\n",
    "    else:\n",
    "        payoff=lambda s: np.maximum(s-k,0)\n",
    "\n",
    "    value=np.zeros((s_count,t_count))\n",
    "\n",
    "    #Terminal condition\n",
    "    value[:,t_count-1]=payoff(x_lin)\n",
    "    if put:\n",
    "        #left boundary condition\n",
    "        value[0,:]=k\n",
    "        #rigth boundary condition\n",
    "        value[s_count-1,:]=0\n",
    "    else:\n",
    "        #left boundary condition\n",
    "        value[0,:]=0\n",
    "        #rigth boundary condition\n",
    "        value[s_count-1,:]=s_max-k*np.exp(-r*(T-t_lin))\n",
    "    \n",
    "    a=0.25*dt*(sigma**2*j_index[1:s_count-1]**2-r*j_index[1:s_count-1])\n",
    "\n",
    "    b=-0.5*dt*(sigma**2*j_index[1:s_count-1]**2+r)\n",
    "\n",
    "    c= 0.25*dt*(sigma**2*j_index[1:s_count-1]**2+r*j_index[1:s_count-1])\n",
    "\n",
    "\n",
    "    B=np.zeros((s_count-2,s_count-2))\n",
    "    C=np.zeros((s_count-2,s_count-2))\n",
    "\n",
    "\n",
    "    for i in range(s_count-2):\n",
    "        if i==0:\n",
    "            B[i,i]=1-b[i]\n",
    "            B[i,i+1]=-c[i]\n",
    "\n",
    "            C[i,i]=1+b[i]\n",
    "            C[i,i+1]=c[i]\n",
    "        if i==s_count-3:\n",
    "            B[i,i]=1-b[i]\n",
    "            B[i,i-1]=-a[i]\n",
    "\n",
    "            C[i,i]=1+b[i]\n",
    "            C[i,i-1]=a[i]\n",
    "        else:\n",
    "            B[i,i]=1-b[i]\n",
    "            B[i,i+1]=-c[i]\n",
    "            B[i,i-1]=-a[i]\n",
    "\n",
    "            C[i,i]=1+b[i]\n",
    "            C[i,i+1]=c[i]\n",
    "            C[i,i-1]=a[i]\n",
    "\n",
    "    aux=np.zeros(s_count-2)\n",
    "    terminal_condition=value[1:-1,t_count-1]\n",
    "    discount=np.exp(-T*r/t_count)\n",
    "\n",
    "    \n",
    "    iter_array=np.zeros(t_count-2)\n",
    "    \n",
    "    for i in range(t_count-2,-1,-1):\n",
    "        #boundary conditions \n",
    "        aux[0]=a[0]*(value[0,i]+value[0,i+1])\n",
    "        aux[-1]=c[-1]*(value[-1,i]+value[-1,i+1])\n",
    "        #Ax_t=F F=C*X_{t+1}+K_{T+1}\n",
    "        F=C.dot(value[1:s_count-1,i+1])+aux\n",
    "        #discounted value of the option in the last time step as the 1st aproximation to the solver\n",
    "        value[1:s_count-1,i],iter_value= PSOR_FD(B,F,terminal_condition,discount*value[1:s_count-1,i+1],omega,american)\n",
    "        iter_array[i-1]=iter_value\n",
    "                \n",
    "    return value[:,0],iter_array\n"
   ]
  },
  {
   "cell_type": "code",
   "execution_count": 4,
   "id": "11c424ad",
   "metadata": {},
   "outputs": [],
   "source": [
    "def binnary_american_pricing_1_d(k,r,sigma,T,n,s0,put=True,american=True):\n",
    "    #binary trees  for American option\n",
    "\n",
    "    u=np.exp(sigma*((T/n)**0.5))\n",
    "    d=1/u\n",
    "    discount=np.exp(-T*r/n)\n",
    "    \n",
    "    #risk neutral probability\n",
    "    q=(np.exp(r*T/n)-d)/(u-d)\n",
    "    \n",
    "    option=np.zeros((n+1,n+1))\n",
    "\n",
    "    \n",
    "    if put:\n",
    "        payoff=lambda s: np.maximum(k-s,0)\n",
    "    else:\n",
    "        payoff=lambda s: np.maximum(s-k,0)\n",
    "    \n",
    "    if american:\n",
    "    #prices lattice\n",
    "        lattice=np.zeros((n+1,n+1))\n",
    "\n",
    "        for i in range(n + 1):\n",
    "            j=np.arange(0,i+1)\n",
    "            lattice[j, i] = s0*(u**(i - j))*(d**j)\n",
    "\n",
    "    \n",
    "        option[0:n+1,n]=payoff(lattice[0:n+1,n])\n",
    "\n",
    "        for i in range(n-1,-1,-1):\n",
    "            option[0:i+1,i]=np.maximum((discount*(q*option[0:i+1,i+1]+(1-q)*option[1:i+2,i+1])),payoff(lattice[0:i+1,i]))\n",
    "    else:\n",
    "        \n",
    "        j=np.arange(0,n+1)\n",
    "        option[0:n+1,n]=payoff(s0*(u**(n - j))*(d**j))\n",
    "\n",
    "        for i in range(n-1,-1,-1):\n",
    "            option[0:i+1,i]=discount*(q*option[0:i+1,i+1]+(1-q)*option[1:i+2,i+1])\n",
    "\n",
    "    return option[0,0]\n",
    "\n"
   ]
  },
  {
   "cell_type": "code",
   "execution_count": 5,
   "id": "e1cd52b9",
   "metadata": {},
   "outputs": [],
   "source": [
    "def binnary_american_pricing_1_2(k,r,sigma,T,n,s0,put=True,american=True):\n",
    "    #binary trees  for American option (Jarrow and Rudd (1983))\n",
    "    \n",
    "    delta_t=T/n\n",
    "    u=np.exp((r-sigma**2/2)*delta_t+sigma*np.sqrt(delta_t))\n",
    "    d=np.exp((r-sigma**2/2)*delta_t-sigma*np.sqrt(delta_t))\n",
    "    discount=np.exp(-T*r/n)\n",
    "    option=np.zeros((n+1,n+1))\n",
    "\n",
    "    #risk neutral probability\n",
    "    q=1/2\n",
    "    if put:\n",
    "        payoff=lambda s: np.maximum(k-s,0)\n",
    "    else:\n",
    "        payoff=lambda s: np.maximum(s-k,0)\n",
    "\n",
    "    if american:\n",
    "    #prices lattice\n",
    "        lattice=np.zeros((n+1,n+1))\n",
    "\n",
    "        for i in range(n + 1):\n",
    "            j=np.arange(0,i+1)\n",
    "            lattice[j, i] = s0*(u**(i - j))*(d**j)\n",
    "\n",
    "    \n",
    "        option[0:n+1,n]=payoff(lattice[0:n+1,n])\n",
    "\n",
    "        for i in range(n-1,-1,-1):\n",
    "            option[0:i+1,i]=np.maximum((discount*(q*option[0:i+1,i+1]+(1-q)*option[1:i+2,i+1])),payoff(lattice[0:i+1,i]))\n",
    "    else:\n",
    "        \n",
    "        j=np.arange(0,n+1)\n",
    "        option[0:n+1,n]=payoff(s0*(u**(n - j))*(d**j))\n",
    "\n",
    "        for i in range(n-1,-1,-1):\n",
    "            option[0:i+1,i]=discount*(q*option[0:i+1,i+1]+(1-q)*option[1:i+2,i+1])\n",
    "\n",
    "    return option[0,0]\n",
    "\n"
   ]
  },
  {
   "cell_type": "code",
   "execution_count": 6,
   "id": "2cba0e5d",
   "metadata": {},
   "outputs": [],
   "source": [
    "def get_index(values,s_max,ds):\n",
    "    #function to compute the index of each s_0 in the solution vector of the FD methods\n",
    "    s_count=int(s_max/ds)+1\n",
    "\n",
    "    x_lin=np.linspace(0,s_max,s_count)\n",
    "    index=np.zeros(len(values),dtype=int)\n",
    "    \n",
    "    for i in range(len(values)):\n",
    "        index[i]= np.where(x_lin==values[i])[0]\n",
    "    return index\n",
    "\n",
    "s_max=500\n",
    "s_0=[100]\n",
    "k=100\n",
    "sigma=0.2\n",
    "r=0.05\n",
    "T=1"
   ]
  },
  {
   "cell_type": "code",
   "execution_count": 7,
   "id": "7d0c0643",
   "metadata": {
    "scrolled": true
   },
   "outputs": [
    {
     "name": "stdout",
     "output_type": "stream",
     "text": [
      "1.05\n",
      "1.1\n",
      "1.15\n",
      "1.2\n",
      "1.25\n",
      "1.3\n",
      "1.35\n",
      "1.4\n",
      "1.45\n",
      "1.5\n",
      "1.55\n",
      "1.6\n",
      "1.65\n",
      "1.7\n",
      "1.75\n",
      "1.8\n",
      "1.85\n",
      "1.9\n",
      "1.95\n"
     ]
    },
    {
     "data": {
      "image/png": "[encoded data removed]",
      "text/plain": [
       "<Figure size 432x288 with 1 Axes>"
      ]
     },
     "metadata": {
      "needs_background": "light"
     },
     "output_type": "display_data"
    },
    {
     "name": "stdout",
     "output_type": "stream",
     "text": [
      "1.65\n"
     ]
    }
   ],
   "source": [
    "ds=0.2\n",
    "dt=ds/50\n",
    "iter_array=[]\n",
    "for i in range(1,20):\n",
    "    print(1+i/20)\n",
    "    _ , iter_value =fd_american_pricing_cn(k,r,sigma,T,dt,ds,s_max,1+i/20)\n",
    "    iter_array.append(np.mean(np.array(iter_value)))\n",
    "plt.plot(1+np.arange(1,20)/20,iter_array)\n",
    "plt.xlabel(\"omega\")\n",
    "plt.ylabel(\"mean iter\")\n",
    "plt.show()\n",
    "\n",
    "print(np.argmin(np.array(iter_array))/20+1)\n",
    "    "
   ]
  },
  {
   "cell_type": "code",
   "execution_count": 25,
   "id": "4cdfb616",
   "metadata": {},
   "outputs": [
    {
     "name": "stdout",
     "output_type": "stream",
     "text": [
      "2.513798411563073e-05\n"
     ]
    }
   ],
   "source": [
    "aux=binnary_american_pricing_1_d(k,r,sigma,T,15000,s_0)\n",
    "aux_percision=binnary_american_pricing_1_d(k,r,sigma,T,30000,s_0)\n",
    "print(aux_percision-aux)\n",
    "#assuming convergence(which the binomial method has) |true-aux_precision|<10^-5\n",
    "#i.e. good  enough to compare with solutions with 10^-3 percision"
   ]
  },
  {
   "cell_type": "code",
   "execution_count": 9,
   "id": "49c22d04",
   "metadata": {},
   "outputs": [
    {
     "name": "stdout",
     "output_type": "stream",
     "text": [
      "2 [0.01073135]\n",
      "1 [0.00270669]\n",
      "final ds explicit 0.5 [0.00066027]\n",
      "100 0.007991331154303616\n",
      "200 0.003962990380685483\n",
      "300 0.0026231259286308983\n",
      "400 0.0019398432576842595\n",
      "500 0.0015356295937110076\n",
      "600 0.0012678808737858205\n",
      "700 0.001084959623034898\n",
      "final n binomial d 800 0.0009441249618431513\n",
      "100 0.009689192391499901\n",
      "200 0.003022564616506962\n",
      "300 0.0029160906376901607\n",
      "400 0.0035107987055740253\n",
      "500 0.002434646426101139\n",
      "final n binomial p 600 0.0008044714233284012\n",
      "2 [0.01163448]\n",
      "1 [0.00336769]\n",
      "final ds cn 0.5 [0.00096441]\n"
     ]
    }
   ],
   "source": [
    "for ds in [2,1,0.5,0.25,0.1]:\n",
    "    #https://math.stackexchange.com/questions/3989847/stability-analysis-finite-difference-methods-black-scholes-pde\n",
    "    dt=ds**2 /(sigma**2 *s_max**2)\n",
    "    index=get_index(s_0,s_max,ds)\n",
    "    solution=fd_american_pricing_explicit(k,r,sigma,T,dt,ds,s_max)[index]\n",
    "    if(np.abs(aux_percision-solution)<10**-3):\n",
    "        print(\"final ds explicit\",ds,np.abs(aux_percision-solution))\n",
    "        break\n",
    "    print(ds,np.abs(aux_percision-solution))\n",
    "\n",
    "for n in [100,200,300,400,500,600,700,800,900,1000]:\n",
    "    solution=binnary_american_pricing_1_d(k,r,sigma,T,n,s_0)\n",
    "    if(np.abs(aux_percision-solution)<10**-3):\n",
    "        print(\"final n binomial d\",n,np.abs(aux_percision-solution))\n",
    "        break\n",
    "    print(n,np.abs(aux_percision-solution))\n",
    "\n",
    "for n in [100,200,300,400,500,600,700,800,900,1000]:\n",
    "    solution=binnary_american_pricing_1_2(k,r,sigma,T,n,s_0)\n",
    "    if(np.abs(aux_percision-solution)<10**-3):\n",
    "        print(\"final n binomial p\",n,np.abs(aux_percision-solution))\n",
    "        break\n",
    "    print(n,np.abs(aux_percision-solution))    \n",
    "    \n",
    "for ds in [2,1,0.5,0.25,0.1]:\n",
    "    dt=ds/50\n",
    "    index=get_index(s_0,s_max,ds)\n",
    "    solution,iter_array =fd_american_pricing_cn(k,r,sigma,T,dt,ds,s_max,1.65)\n",
    "    if(np.abs(aux_percision-solution[index])<10**-3):\n",
    "        print(\"final ds cn\",ds,np.abs(aux_percision-solution[index]))\n",
    "        break\n",
    "    print(ds,np.abs(aux_percision-solution[index]))\n",
    "\n",
    "#ds explicit= 0.5\n",
    "#n binomial 1/d = 800\n",
    "#n binomial 1/2 =600\n",
    "#ds explicit= 0.5"
   ]
  },
  {
   "cell_type": "code",
   "execution_count": 10,
   "id": "6a5e9d2a",
   "metadata": {},
   "outputs": [
    {
     "name": "stdout",
     "output_type": "stream",
     "text": [
      "time binary u=1/d: 0.10767936706542969\n",
      "time binary p=0.5: 0.0688164234161377\n",
      "time explicit: 1.2323729991912842\n",
      "time cn: 0.08975958824157715\n"
     ]
    }
   ],
   "source": [
    "n=800\n",
    "time_aux=time.time()\n",
    "binnary_solution=binnary_american_pricing_1_d(k,r,sigma,T,n,s_0)\n",
    "print(\"time binary u=1/d:\", time.time()-time_aux)\n",
    "\n",
    "n=600\n",
    "time_aux=time.time()\n",
    "binnary_solution=binnary_american_pricing_1_2(k,r,sigma,T,n,s_0)\n",
    "print(\"time binary p=0.5:\", time.time()-time_aux)\n",
    "\n",
    "ds=0.5\n",
    "dt=ds**2 /(sigma**2 *s_max**2)\n",
    "index=get_index(s_0,s_max,ds)\n",
    "time_aux=time.time()\n",
    "explicit_solution=fd_american_pricing_explicit(k,r,sigma,T,dt,ds,s_max)\n",
    "print(\"time explicit:\", time.time()-time_aux)\n",
    "\n",
    "ds=0.5\n",
    "dt=ds/50\n",
    "index=get_index(s_0,s_max,ds)\n",
    "time_aux=time.time()\n",
    "cn_solution,iter_array =fd_american_pricing_cn(k,r,sigma,T,dt,ds,s_max,1.65)\n",
    "print(\"time cn:\", time.time()-time_aux)"
   ]
  },
  {
   "cell_type": "code",
   "execution_count": 11,
   "id": "f035a5a3",
   "metadata": {
    "scrolled": true
   },
   "outputs": [
    {
     "name": "stdout",
     "output_type": "stream",
     "text": [
      "time binary: 0.7700855731964111\n",
      "time binary 1_2: 0.5196549892425537\n"
     ]
    },
    {
     "data": {
      "image/png": "[encoded data removed]",
      "text/plain": [
       "<Figure size 432x288 with 1 Axes>"
      ]
     },
     "metadata": {
      "needs_background": "light"
     },
     "output_type": "display_data"
    }
   ],
   "source": [
    "s_0_arr=np.array([80,85,90,95,100,105,110,115,120,125,130,135,140])\n",
    "n=800\n",
    "\n",
    "binary_solution_arr=np.zeros(len(s_0_arr))\n",
    "time_aux=time.time()\n",
    "for i in range(len(s_0_arr)):\n",
    "    binary_solution_arr[i]=binnary_american_pricing_1_d(k,r,sigma,T,n,s_0_arr[i])\n",
    "print(\"time binary:\", time.time()-time_aux)\n",
    "\n",
    "n=600\n",
    "binary_solution_arr_1_2=np.zeros(len(s_0_arr))\n",
    "time_aux=time.time()\n",
    "for i in range(len(s_0_arr)):\n",
    "    binary_solution_arr_1_2[i]=binnary_american_pricing_1_2(k,r,sigma,T,n,s_0_arr[i])\n",
    "print(\"time binary 1_2:\", time.time()-time_aux)\n",
    "\n",
    "\n",
    "ds=0.5\n",
    "index=get_index(s_0_arr,s_max,ds)\n",
    "explicit_solution_arr=explicit_solution[index]\n",
    "\n",
    "ds=0.5\n",
    "index=get_index(s_0_arr,s_max,ds)\n",
    "cn_solution_arr=cn_solution[index]\n",
    "\n",
    "plt.scatter(s_0_arr,binary_solution_arr)\n",
    "plt.scatter(s_0_arr,binary_solution_arr_1_2)\n",
    "plt.scatter(s_0_arr,explicit_solution_arr)\n",
    "plt.scatter(s_0_arr,cn_solution_arr)\n",
    "plt.legend([\"binary_1_d\",\"binary_1_2\",\"explicit\",\"cn\"])\n",
    "plt.xlabel(\"s_0\")\n",
    "plt.ylabel(\"ATM american put\")\n",
    "plt.show()"
   ]
  },
  {
   "cell_type": "code",
   "execution_count": 26,
   "id": "29524f62",
   "metadata": {},
   "outputs": [
    {
     "data": {
      "image/png": "[encoded data removed]",
      "text/plain": [
       "<Figure size 432x288 with 1 Axes>"
      ]
     },
     "metadata": {
      "needs_background": "light"
     },
     "output_type": "display_data"
    }
   ],
   "source": [
    "result_1=[]\n",
    "for n in range(100,2000,10):\n",
    "    solution=binnary_american_pricing_1_d(k,r,sigma,T,n,s_0)\n",
    "    result_1.append(np.abs(aux_percision-solution))\n",
    "\n",
    "result_2=[]\n",
    "for n in range(100,2000,10):\n",
    "    solution=binnary_american_pricing_1_2(k,r,sigma,T,n,s_0)\n",
    "    result_2.append(np.abs(aux_percision-solution)) \n",
    "\n",
    "plt.plot(range(100,2000,10),result_1)\n",
    "plt.plot(range(100,2000,10),result_2)\n",
    "plt.xlabel(\"n\")\n",
    "plt.ylabel(\"abs(x_true-x)\")\n",
    "plt.legend([\"u=1/d\",\"p=0.5\"])\n",
    "plt.show()"
   ]
  },
  {
   "cell_type": "code",
   "execution_count": 13,
   "id": "8d129a98",
   "metadata": {},
   "outputs": [],
   "source": [
    "#European Call"
   ]
  },
  {
   "cell_type": "code",
   "execution_count": 14,
   "id": "3d988eb1",
   "metadata": {},
   "outputs": [
    {
     "name": "stdout",
     "output_type": "stream",
     "text": [
      "1.05\n",
      "1.1\n",
      "1.15\n",
      "1.2\n",
      "1.25\n",
      "1.3\n",
      "1.35\n",
      "1.4\n",
      "1.45\n",
      "1.5\n",
      "1.55\n",
      "1.6\n",
      "1.65\n",
      "1.7\n",
      "1.75\n",
      "1.8\n",
      "1.85\n",
      "1.9\n",
      "1.95\n"
     ]
    },
    {
     "data": {
      "image/png": "[encoded data removed]",
      "text/plain": [
       "<Figure size 432x288 with 1 Axes>"
      ]
     },
     "metadata": {
      "needs_background": "light"
     },
     "output_type": "display_data"
    },
    {
     "name": "stdout",
     "output_type": "stream",
     "text": [
      "1.8\n"
     ]
    }
   ],
   "source": [
    "ds=0.2\n",
    "dt=ds/50\n",
    "iter_array=[]\n",
    "for i in range(1,20):\n",
    "    print(1+i/20)\n",
    "    _ , iter_value =fd_american_pricing_cn(k,r,sigma,T,dt,ds,s_max,1+i/20,put=False,american=False)\n",
    "    iter_array.append(np.mean(np.array(iter_value)))\n",
    "plt.plot(1+np.arange(1,20)/20,iter_array)\n",
    "plt.xlabel(\"omega\")\n",
    "plt.ylabel(\"mean iter\")\n",
    "plt.show()\n",
    "\n",
    "print(np.argmin(np.array(iter_array))/20+1)\n",
    "    "
   ]
  },
  {
   "cell_type": "code",
   "execution_count": 15,
   "id": "4b250aba",
   "metadata": {},
   "outputs": [
    {
     "name": "stdout",
     "output_type": "stream",
     "text": [
      "6.66564494942179e-05\n"
     ]
    }
   ],
   "source": [
    "aux=binnary_american_pricing_1_d(k,r,sigma,T,15000,s_0,put=False,american=False)\n",
    "aux_percision=binnary_american_pricing_1_d(k,r,sigma,T,30000,s_0,put=False,american=False)\n",
    "print(aux_percision-aux)\n",
    "#assuming convergence(which the binomial method has) |true-aux_precision|<10^-5\n",
    "#i.e. good  enough to compare with solutions with 10^-3 percision\n"
   ]
  },
  {
   "cell_type": "code",
   "execution_count": 16,
   "id": "8c351843",
   "metadata": {},
   "outputs": [
    {
     "name": "stdout",
     "output_type": "stream",
     "text": [
      "2 [0.00941045]\n",
      "1 [0.00229949]\n",
      "final ds explicit 0.5 [0.00052469]\n",
      "200 0.009925655341588069\n",
      "400 0.004931073917635587\n",
      "600 0.0032655121076121674\n",
      "800 0.0024326003191230683\n",
      "1000 0.0019328114369550065\n",
      "1200 0.0015996014455677\n",
      "1400 0.0013615858062454578\n",
      "1600 0.0011830694135408493\n",
      "1800 0.0010442205628216072\n",
      "final n binomial d 2000 0.0009331397435854427\n",
      "100 0.009399866914581168\n",
      "200 0.0052242095658066035\n",
      "300 0.004164691404826115\n",
      "400 0.004686512354277639\n",
      "500 0.002838248695516299\n",
      "final n binomial p 600 0.00031829272982975\n",
      "2 [0.00943193]\n",
      "1 [0.00230521]\n",
      "final ds cn 0.5 [0.00052616]\n"
     ]
    }
   ],
   "source": [
    "for ds in [2,1,0.5,0.25,0.1]:\n",
    "    #https://math.stackexchange.com/questions/3989847/stability-analysis-finite-difference-methods-black-scholes-pde\n",
    "    dt=ds**2 /(sigma**2 *s_max**2)\n",
    "    index=get_index(s_0,s_max,ds)\n",
    "    solution=fd_american_pricing_explicit(k,r,sigma,T,dt,ds,s_max,put=False,american=False)[index]\n",
    "    if(np.abs(aux_percision-solution)<10**-3):\n",
    "        print(\"final ds explicit\",ds,np.abs(aux_percision-solution))\n",
    "        break\n",
    "    print(ds,np.abs(aux_percision-solution))\n",
    "\n",
    "for n in [200,400,600,800,1000,1200,1400,1600,1800,2000]:\n",
    "    solution=binnary_american_pricing_1_d(k,r,sigma,T,n,s_0,put=False,american=False)\n",
    "    if(np.abs(aux_percision-solution)<10**-3):\n",
    "        print(\"final n binomial d\",n,np.abs(aux_percision-solution))\n",
    "        break\n",
    "    print(n,np.abs(aux_percision-solution))\n",
    "\n",
    "for n in [100,200,300,400,500,600,700,800,900,1000]:\n",
    "    solution=binnary_american_pricing_1_2(k,r,sigma,T,n,s_0,put=False,american=False)\n",
    "    if(np.abs(aux_percision-solution)<10**-3):\n",
    "        print(\"final n binomial p\",n,np.abs(aux_percision-solution))\n",
    "        break\n",
    "    print(n,np.abs(aux_percision-solution))    \n",
    "    \n",
    "for ds in [2,1,0.5,0.25,0.1]:\n",
    "    dt=ds/50\n",
    "    index=get_index(s_0,s_max,ds)\n",
    "    solution,iter_array =fd_american_pricing_cn(k,r,sigma,T,dt,ds,s_max,1.8,put=False,american=False)\n",
    "    if(np.abs(aux_percision-solution[index])<10**-3):\n",
    "        print(\"final ds cn\",ds,np.abs(aux_percision-solution[index]))\n",
    "        break\n",
    "    print(ds,np.abs(aux_percision-solution[index]))\n",
    "\n",
    "#ds explicit= 0.5\n",
    "#n binomial 1/d = 2000\n",
    "#n binomial 1/2 =600\n",
    "#ds explicit= 0.5"
   ]
  },
  {
   "cell_type": "code",
   "execution_count": 17,
   "id": "a6585c76",
   "metadata": {},
   "outputs": [
    {
     "name": "stdout",
     "output_type": "stream",
     "text": [
      "time binary u=1/d: 0.09588384628295898\n",
      "time binary p=0.5: 0.009971380233764648\n",
      "time explicit: 1.1079161167144775\n",
      "time cn: 0.3341374397277832\n"
     ]
    }
   ],
   "source": [
    "n=2000\n",
    "time_aux=time.time()\n",
    "binnary_solution=binnary_american_pricing_1_d(k,r,sigma,T,n,s_0,put=False,american=False)\n",
    "print(\"time binary u=1/d:\", time.time()-time_aux)\n",
    "\n",
    "n=600\n",
    "time_aux=time.time()\n",
    "binnary_solution=binnary_american_pricing_1_2(k,r,sigma,T,n,s_0,put=False,american=False)\n",
    "print(\"time binary p=0.5:\", time.time()-time_aux)\n",
    "\n",
    "ds=0.5\n",
    "dt=ds**2 /(sigma**2 *s_max**2)\n",
    "index=get_index(s_0,s_max,ds)\n",
    "time_aux=time.time()\n",
    "explicit_solution=fd_american_pricing_explicit(k,r,sigma,T,dt,ds,s_max,put=False,american=False)\n",
    "print(\"time explicit:\", time.time()-time_aux)\n",
    "\n",
    "ds=0.5\n",
    "dt=ds/50\n",
    "index=get_index(s_0,s_max,ds)\n",
    "time_aux=time.time()\n",
    "cn_solution,iter_array =fd_american_pricing_cn(k,r,sigma,T,dt,ds,s_max,1.8,put=False,american=False)\n",
    "print(\"time cn:\", time.time()-time_aux)"
   ]
  },
  {
   "cell_type": "code",
   "execution_count": 18,
   "id": "91f54252",
   "metadata": {},
   "outputs": [
    {
     "name": "stdout",
     "output_type": "stream",
     "text": [
      "time binary: 0.9792635440826416\n",
      "time binary: 0.07879352569580078\n"
     ]
    },
    {
     "data": {
      "image/png": "[encoded data removed]",
      "text/plain": [
       "<Figure size 432x288 with 1 Axes>"
      ]
     },
     "metadata": {
      "needs_background": "light"
     },
     "output_type": "display_data"
    }
   ],
   "source": [
    "s_0_arr=np.array([80,85,90,95,100,105,110,115,120,125,130,135,140])\n",
    "n=2000\n",
    "\n",
    "binary_solution_arr=np.zeros(len(s_0_arr))\n",
    "time_aux=time.time()\n",
    "for i in range(len(s_0_arr)):\n",
    "    binary_solution_arr[i]=binnary_american_pricing_1_d(k,r,sigma,T,n,s_0_arr[i],put=False,american=False)\n",
    "print(\"time binary:\", time.time()-time_aux)\n",
    "\n",
    "n=600\n",
    "binary_solution_arr_1_2=np.zeros(len(s_0_arr))\n",
    "time_aux=time.time()\n",
    "for i in range(len(s_0_arr)):\n",
    "    binary_solution_arr_1_2[i]=binnary_american_pricing_1_2(k,r,sigma,T,n,s_0_arr[i],put=False,american=False)\n",
    "print(\"time binary:\", time.time()-time_aux)\n",
    "\n",
    "\n",
    "ds=0.5\n",
    "index=get_index(s_0_arr,s_max,ds)\n",
    "explicit_solution_arr=explicit_solution[index]\n",
    "\n",
    "ds=0.5\n",
    "index=get_index(s_0_arr,s_max,ds)\n",
    "cn_solution_arr=cn_solution[index]\n",
    "\n",
    "plt.scatter(s_0_arr,binary_solution_arr)\n",
    "plt.scatter(s_0_arr,binary_solution_arr_1_2)\n",
    "plt.scatter(s_0_arr,explicit_solution_arr)\n",
    "plt.scatter(s_0_arr,cn_solution_arr)\n",
    "plt.legend([\"binary_1_d\",\"binary_1_2\",\"explicit\",\"cn\"])\n",
    "plt.xlabel(\"s_0\")\n",
    "plt.ylabel(\"ATM european call\")\n",
    "plt.show()"
   ]
  },
  {
   "cell_type": "code",
   "execution_count": 24,
   "id": "98c0b60b",
   "metadata": {},
   "outputs": [
    {
     "data": {
      "image/png": "[encoded data removed]",
      "text/plain": [
       "<Figure size 432x288 with 1 Axes>"
      ]
     },
     "metadata": {
      "needs_background": "light"
     },
     "output_type": "display_data"
    }
   ],
   "source": [
    "result_1=[]\n",
    "for n in range(100,2000,10):\n",
    "    solution=binnary_american_pricing_1_d(k,r,sigma,T,n,s_0,put=False,american=False)\n",
    "    result_1.append(np.abs(aux_percision-solution))\n",
    "\n",
    "result_2=[]\n",
    "for n in range(100,2000,10):\n",
    "    solution=binnary_american_pricing_1_2(k,r,sigma,T,n,s_0,put=False,american=False)\n",
    "    result_2.append(np.abs(aux_percision-solution)) \n",
    "\n",
    "plt.plot(range(100,2000,10),result_1)\n",
    "plt.plot(range(100,2000,10),result_2)\n",
    "plt.xlabel(\"n\")\n",
    "plt.ylabel(\"abs(x_true-x)\")\n",
    "plt.legend([\"u=1/d\",\"p=0.5\"])\n",
    "plt.show()"
   ]
  },
  {
   "cell_type": "code",
   "execution_count": null,
   "id": "1e42dcc0",
   "metadata": {},
   "outputs": [],
   "source": []
  }
 ],
 "metadata": {
  "kernelspec": {
   "display_name": "Python 3 (ipykernel)",
   "language": "python",
   "name": "python3"
  },
  "language_info": {
   "codemirror_mode": {
    "name": "ipython",
    "version": 3
   },
   "file_extension": ".py",
   "mimetype": "text/x-python",
   "name": "python",
   "nbconvert_exporter": "python",
   "pygments_lexer": "ipython3",
   "version": "3.9.7"
  }
 },
 "nbformat": 4,
 "nbformat_minor": 5
}
