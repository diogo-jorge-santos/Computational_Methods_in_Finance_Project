{
 "cells": [
  {
   "cell_type": "code",
   "execution_count": 1,
   "id": "d2fc0e2d",
   "metadata": {},
   "outputs": [],
   "source": [
    "import numpy as np\n",
    "import matplotlib.pyplot as plt\n",
    "from scipy.sparse import spdiags\n"
   ]
  },
  {
   "cell_type": "code",
   "execution_count": 2,
   "id": "ab11752e",
   "metadata": {},
   "outputs": [],
   "source": [
    "\n",
    "def Poisson_mixed_backward(n,beta,gamma,a,b,u_x,u_d_x,f_x):\n",
    "    \n",
    "    u_0=u_x(0)\n",
    "    u_1=u_x(1)\n",
    "    h=1/(n+1)\n",
    "\n",
    "    c=a*u_x(1)+b*u_d_x(1)\n",
    "\n",
    "    index=np.array(list(range(0,n)))/n\n",
    "\n",
    "    index=index[1:n]\n",
    "    index_plus=(np.array(list(range(0,n)))+0.5)/n\n",
    "\n",
    "    index_plus=index_plus[1:n]\n",
    "\n",
    "    index_minus=((np.array(list(range(0,n)))-0.5)/n)\n",
    "\n",
    "    index_minus=index_minus[1:n]\n",
    "\n",
    "    e=np.ones(n-1)\n",
    "\n",
    "    minus_1_diag=-beta(index_minus)*e\n",
    "    plus_1_diag=-beta(index_plus)*e\n",
    "    diag=(beta(index_plus)+beta(index_minus))-gamma(index)*h**2\n",
    "\n",
    "    A=np.zeros((n-1,n-1))\n",
    "\n",
    "    for i in range(0,n-2):\n",
    "        A[i,i]=diag[i]\n",
    "        if not i==n-2:\n",
    "            A[i,i+1]=plus_1_diag[i]\n",
    "        if not i==0:\n",
    "            A[i,i-1]=minus_1_diag[i]    \n",
    "    \n",
    "    A[-1,-1]=1.5*a/h+b\n",
    "    A[-1,-2]=-2*a/h\n",
    "    A[-1,-3]=0.5*a/h\n",
    "    \n",
    "    f= f_x(index) * h**2\n",
    "    f[0]=f[0]+(u_0*beta(index_minus[0]))\n",
    "    f[-1]=c\n",
    "    u=np.linalg.solve(A,f)\n",
    "    \n",
    "    return u\n"
   ]
  },
  {
   "cell_type": "code",
   "execution_count": 3,
   "id": "2ddf9422",
   "metadata": {},
   "outputs": [
    {
     "data": {
      "image/png": "[encoded data removed]",
      "text/plain": [
       "<Figure size 432x288 with 1 Axes>"
      ]
     },
     "metadata": {
      "needs_background": "light"
     },
     "output_type": "display_data"
    }
   ],
   "source": [
    "n=100\n",
    "beta=lambda x:1+x**2\n",
    "gamma=lambda x:x\n",
    "u_x=lambda x: np.exp(-x)*(x-1)**2\n",
    "#needed to compute c!\n",
    "u_d_x=lambda x: np.exp(-x)*(x**2-4*x+3)\n",
    "f_x=lambda x:-np.exp(-x)*(x**4-7*x**3+14*x**2-11*x+7)\n",
    "\n",
    "\n",
    "a=2\n",
    "b=-3\n",
    "index=np.array(list(range(0,n)))/n\n",
    "\n",
    "u=Poisson_mixed_backward(n,beta,gamma,a,b,u_x,u_d_x,f_x)\n",
    "plt.plot(u[:-1])\n",
    "plt.plot(u_x(index[1:-1]))\n",
    "plt.legend([\"exact\",\"FD_n_100\"])\n",
    "plt.show()"
   ]
  },
  {
   "cell_type": "code",
   "execution_count": 4,
   "id": "27ca7267",
   "metadata": {},
   "outputs": [
    {
     "data": {
      "image/png": "[encoded data removed]",
      "text/plain": [
       "<Figure size 432x288 with 1 Axes>"
      ]
     },
     "metadata": {
      "needs_background": "light"
     },
     "output_type": "display_data"
    }
   ],
   "source": [
    "\n",
    "def norm_array(sol,exact):\n",
    "    \n",
    "    return np.sqrt(np.linalg.norm(sol-exact))/len(sol)\n",
    "error=[]\n",
    "#4 points becouse 3 points are needed for the 3 backwards aproximation \n",
    "for n in range(4,1000):\n",
    "    index=np.array(list(range(0,n)))/n\n",
    "    u=Poisson_mixed_backward(n,beta,gamma,a,b,u_x,u_d_x,f_x)[:-1]\n",
    "    u_exact=u_x(index[1:-1])\n",
    "    error.append(norm_array(u,u_exact))\n",
    "\n",
    "error=np.array(error)\n",
    "error=np.log(error[2:]/error[:-2])/np.log(error[1:-1]/error[0:-2])\n",
    "plt.plot(np.arange(4,998),error)\n",
    "plt.xlabel(\"n\")\n",
    "plt.ylabel(\"rate of convergence\")\n",
    "plt.show()\n",
    "    "
   ]
  },
  {
   "cell_type": "code",
   "execution_count": null,
   "id": "64671e36",
   "metadata": {},
   "outputs": [],
   "source": []
  }
 ],
 "metadata": {
  "kernelspec": {
   "display_name": "Python 3 (ipykernel)",
   "language": "python",
   "name": "python3"
  },
  "language_info": {
   "codemirror_mode": {
    "name": "ipython",
    "version": 3
   },
   "file_extension": ".py",
   "mimetype": "text/x-python",
   "name": "python",
   "nbconvert_exporter": "python",
   "pygments_lexer": "ipython3",
   "version": "3.9.7"
  }
 },
 "nbformat": 4,
 "nbformat_minor": 5
}
